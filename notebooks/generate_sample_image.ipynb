{
 "cells": [
  {
   "cell_type": "code",
   "execution_count": 21,
   "metadata": {},
   "outputs": [],
   "source": [
    "from boltons.pathutils import augpath\n",
    "from PIL import Image\n",
    "import matplotlib.pyplot as plt"
   ]
  },
  {
   "cell_type": "code",
   "execution_count": 35,
   "metadata": {},
   "outputs": [],
   "source": [
    "def show(img):\n",
    "    plt.figure(figsize=(8, 8))\n",
    "    plt.axis(\"off\")\n",
    "    plt.imshow(img)\n",
    "    plt.show()"
   ]
  },
  {
   "cell_type": "code",
   "execution_count": 42,
   "metadata": {},
   "outputs": [],
   "source": [
    "def get_concat_h_multi_resize(im_list, resample=Image.BICUBIC):\n",
    "    max_height = max(im.height for im in im_list)\n",
    "    im_list_resize = [im.resize((int(im.width * max_height / im.height), max_height),resample=resample)\n",
    "                      for im in im_list]\n",
    "    total_width = sum(im.width for im in im_list_resize)\n",
    "    dst = Image.new('RGB', (total_width, max_height))\n",
    "    pos_x = 0\n",
    "    for im in im_list_resize:\n",
    "        dst.paste(im, (pos_x, 0))\n",
    "        pos_x += im.width\n",
    "    return dst\n",
    "\n",
    "def get_concat_v_multi_resize(im_list, resample=Image.BICUBIC):\n",
    "    min_width = min(im.width for im in im_list)\n",
    "    im_list_resize = [im.resize((min_width, int(im.height * min_width / im.width)),resample=resample)\n",
    "                      for im in im_list]\n",
    "    total_height = sum(im.height for im in im_list_resize)\n",
    "    dst = Image.new('RGB', (min_width, total_height))\n",
    "    pos_y = 0\n",
    "    for im in im_list_resize:\n",
    "        dst.paste(im, (0, pos_y))\n",
    "        pos_y += im.height\n",
    "    return dst\n",
    "\n",
    "def get_concat_tile_resize(im_list_2d, resample=Image.BICUBIC):\n",
    "    im_list_v = [get_concat_h_multi_resize(im_list_h, resample=resample) for im_list_h in im_list_2d]\n",
    "    return get_concat_v_multi_resize(im_list_v, resample=resample)"
   ]
  },
  {
   "cell_type": "code",
   "execution_count": 46,
   "metadata": {},
   "outputs": [],
   "source": [
    "image_dir = \"../images\"\n",
    "lowpoly_dir = \"../images/lowpoly\"\n",
    "lowpoly_ext = \"png\"\n",
    "files = {\n",
    "    \"bird1.jpg\": (1000, 0, 5000, 4000),\n",
    "    \"fox.jpg\": (50, 0, 910, 860),\n",
    "    \"eminem.jpg\": (0, 0, 400, 400),\n",
    "}\n",
    "\n",
    "images = []\n",
    "for file, box in files.items():\n",
    "    file = augpath(file, dpath=image_dir)\n",
    "    image = Image.open(file)\n",
    "    lowpoly_image = Image.open(augpath(file, dpath=lowpoly_dir, ext=\".png\")).resize(image.size)\n",
    "\n",
    "    image_cropped = image.crop(box)\n",
    "    lowpoly_image_cropped = lowpoly_image.crop(box)\n",
    "    images.append(image_cropped)\n",
    "    images.append(lowpoly_image_cropped)\n",
    "\n",
    "#     show(image_cropped)\n",
    "#     show(lowpoly_image_cropped)\n",
    "# max_size = max([img.size for img in images])\n",
    "# images = [img.resize(max_size) for img in images]\n",
    "# for img in images:\n",
    "#     show(img)\n",
    "\n",
    "get_concat_tile_resize([\n",
    "    [images[0], images[2], images[4]],\n",
    "    [images[1], images[3], images[5]],\n",
    "]).save(\"concat_original.jpg\", quality=60, optimize=True, progressive=True)"
   ]
  }
 ],
 "metadata": {
  "kernelspec": {
   "display_name": "Python 3",
   "language": "python",
   "name": "python3"
  },
  "language_info": {
   "codemirror_mode": {
    "name": "ipython",
    "version": 3
   },
   "file_extension": ".py",
   "mimetype": "text/x-python",
   "name": "python",
   "nbconvert_exporter": "python",
   "pygments_lexer": "ipython3",
   "version": "3.8.5"
  }
 },
 "nbformat": 4,
 "nbformat_minor": 4
}
